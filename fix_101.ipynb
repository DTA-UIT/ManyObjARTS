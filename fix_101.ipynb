{
 "cells": [
  {
   "cell_type": "code",
   "execution_count": 5,
   "metadata": {},
   "outputs": [
    {
     "ename": "NameError",
     "evalue": "name 'count_ln' is not defined",
     "output_type": "error",
     "traceback": [
      "\u001b[0;31m---------------------------------------------------------------------------\u001b[0m",
      "\u001b[0;31mNameError\u001b[0m                                 Traceback (most recent call last)",
      "\u001b[0;32m<ipython-input-5-1cc803ec89e1>\u001b[0m in \u001b[0;36m<module>\u001b[0;34m\u001b[0m\n\u001b[0;32m----> 1\u001b[0;31m \u001b[0;32mfrom\u001b[0m \u001b[0mNASBench\u001b[0m \u001b[0;32mimport\u001b[0m \u001b[0mNAS101\u001b[0m\u001b[0;34m\u001b[0m\u001b[0;34m\u001b[0m\u001b[0m\n\u001b[0m\u001b[1;32m      2\u001b[0m \u001b[0;32mimport\u001b[0m \u001b[0msys\u001b[0m\u001b[0;34m,\u001b[0m \u001b[0mos\u001b[0m\u001b[0;34m\u001b[0m\u001b[0;34m\u001b[0m\u001b[0m\n\u001b[1;32m      3\u001b[0m \u001b[0msys\u001b[0m\u001b[0;34m.\u001b[0m\u001b[0mpath\u001b[0m\u001b[0;34m.\u001b[0m\u001b[0mappend\u001b[0m\u001b[0;34m(\u001b[0m\u001b[0mos\u001b[0m\u001b[0;34m.\u001b[0m\u001b[0mpath\u001b[0m\u001b[0;34m.\u001b[0m\u001b[0mdirname\u001b[0m\u001b[0;34m(\u001b[0m\u001b[0mos\u001b[0m\u001b[0;34m.\u001b[0m\u001b[0mpath\u001b[0m\u001b[0;34m.\u001b[0m\u001b[0mdirname\u001b[0m\u001b[0;34m(\u001b[0m\u001b[0mos\u001b[0m\u001b[0;34m.\u001b[0m\u001b[0mpath\u001b[0m\u001b[0;34m.\u001b[0m\u001b[0mabspath\u001b[0m\u001b[0;34m(\u001b[0m\u001b[0;34m'__file__'\u001b[0m\u001b[0;34m)\u001b[0m\u001b[0;34m)\u001b[0m\u001b[0;34m)\u001b[0m\u001b[0;34m)\u001b[0m\u001b[0;34m\u001b[0m\u001b[0;34m\u001b[0m\u001b[0m\n\u001b[1;32m      4\u001b[0m \u001b[0;32mfrom\u001b[0m \u001b[0msource\u001b[0m\u001b[0;34m.\u001b[0m\u001b[0mnasbench\u001b[0m\u001b[0;34m.\u001b[0m\u001b[0mnasbench\u001b[0m \u001b[0;32mimport\u001b[0m \u001b[0mapi\u001b[0m \u001b[0;32mas\u001b[0m \u001b[0mnasbenchAPI\u001b[0m\u001b[0;34m\u001b[0m\u001b[0;34m\u001b[0m\u001b[0m\n\u001b[1;32m      5\u001b[0m \u001b[0;32mimport\u001b[0m \u001b[0mnumpy\u001b[0m \u001b[0;32mas\u001b[0m \u001b[0mnp\u001b[0m\u001b[0;34m\u001b[0m\u001b[0;34m\u001b[0m\u001b[0m\n",
      "\u001b[0;32m~/Documents/Research/NAS/NASBench/NAS101.py\u001b[0m in \u001b[0;36m<module>\u001b[0;34m\u001b[0m\n\u001b[1;32m     12\u001b[0m \u001b[0;32mfrom\u001b[0m \u001b[0mZeroCostNas\u001b[0m\u001b[0;34m.\u001b[0m\u001b[0mAutoDLTools\u001b[0m\u001b[0;34m.\u001b[0m\u001b[0mxautodl\u001b[0m\u001b[0;34m.\u001b[0m\u001b[0mutils\u001b[0m\u001b[0;34m.\u001b[0m\u001b[0mflop_benchmark\u001b[0m \u001b[0;32mimport\u001b[0m \u001b[0;34m*\u001b[0m\u001b[0;34m\u001b[0m\u001b[0;34m\u001b[0m\u001b[0m\n\u001b[1;32m     13\u001b[0m \u001b[0;32mfrom\u001b[0m \u001b[0msource\u001b[0m\u001b[0;34m.\u001b[0m\u001b[0mnasbench\u001b[0m\u001b[0;34m.\u001b[0m\u001b[0mnasbench\u001b[0m \u001b[0;32mimport\u001b[0m \u001b[0mapi\u001b[0m\u001b[0;34m\u001b[0m\u001b[0;34m\u001b[0m\u001b[0m\n\u001b[0;32m---> 14\u001b[0;31m \u001b[0;32mfrom\u001b[0m \u001b[0mZeroCostNas\u001b[0m\u001b[0;34m.\u001b[0m\u001b[0mOpCounter\u001b[0m\u001b[0;34m.\u001b[0m\u001b[0mthop\u001b[0m \u001b[0;32mimport\u001b[0m \u001b[0mprofile\u001b[0m\u001b[0;34m\u001b[0m\u001b[0;34m\u001b[0m\u001b[0m\n\u001b[0m\u001b[1;32m     15\u001b[0m \u001b[0;34m\u001b[0m\u001b[0m\n\u001b[1;32m     16\u001b[0m \u001b[0;34m\u001b[0m\u001b[0m\n",
      "\u001b[0;32m~/Documents/Research/NAS/ZeroCostNas/OpCounter/thop/__init__.py\u001b[0m in \u001b[0;36m<module>\u001b[0;34m\u001b[0m\n\u001b[1;32m      1\u001b[0m \u001b[0;32mfrom\u001b[0m \u001b[0;34m.\u001b[0m\u001b[0mutils\u001b[0m \u001b[0;32mimport\u001b[0m \u001b[0mclever_format\u001b[0m\u001b[0;34m\u001b[0m\u001b[0;34m\u001b[0m\u001b[0m\n\u001b[0;32m----> 2\u001b[0;31m \u001b[0;32mfrom\u001b[0m \u001b[0;34m.\u001b[0m\u001b[0mprofile\u001b[0m \u001b[0;32mimport\u001b[0m \u001b[0mprofile\u001b[0m\u001b[0;34m,\u001b[0m \u001b[0mprofile_origin\u001b[0m\u001b[0;34m\u001b[0m\u001b[0;34m\u001b[0m\u001b[0m\n\u001b[0m\u001b[1;32m      3\u001b[0m \u001b[0;32mfrom\u001b[0m \u001b[0;34m.\u001b[0m\u001b[0monnx_profile\u001b[0m \u001b[0;32mimport\u001b[0m \u001b[0mOnnxProfile\u001b[0m\u001b[0;34m\u001b[0m\u001b[0;34m\u001b[0m\u001b[0m\n\u001b[1;32m      4\u001b[0m \u001b[0;32mimport\u001b[0m \u001b[0mtorch\u001b[0m\u001b[0;34m\u001b[0m\u001b[0;34m\u001b[0m\u001b[0m\n\u001b[1;32m      5\u001b[0m \u001b[0;34m\u001b[0m\u001b[0m\n",
      "\u001b[0;32m~/Documents/Research/NAS/ZeroCostNas/OpCounter/thop/profile.py\u001b[0m in \u001b[0;36m<module>\u001b[0;34m\u001b[0m\n\u001b[1;32m     32\u001b[0m     \u001b[0mnn\u001b[0m\u001b[0;34m.\u001b[0m\u001b[0mBatchNorm2d\u001b[0m\u001b[0;34m:\u001b[0m \u001b[0mcount_bn\u001b[0m\u001b[0;34m,\u001b[0m\u001b[0;34m\u001b[0m\u001b[0;34m\u001b[0m\u001b[0m\n\u001b[1;32m     33\u001b[0m     \u001b[0mnn\u001b[0m\u001b[0;34m.\u001b[0m\u001b[0mBatchNorm3d\u001b[0m\u001b[0;34m:\u001b[0m \u001b[0mcount_bn\u001b[0m\u001b[0;34m,\u001b[0m\u001b[0;34m\u001b[0m\u001b[0;34m\u001b[0m\u001b[0m\n\u001b[0;32m---> 34\u001b[0;31m     \u001b[0mnn\u001b[0m\u001b[0;34m.\u001b[0m\u001b[0mLayerNorm\u001b[0m\u001b[0;34m:\u001b[0m \u001b[0mcount_ln\u001b[0m\u001b[0;34m,\u001b[0m\u001b[0;34m\u001b[0m\u001b[0;34m\u001b[0m\u001b[0m\n\u001b[0m\u001b[1;32m     35\u001b[0m     \u001b[0mnn\u001b[0m\u001b[0;34m.\u001b[0m\u001b[0mInstanceNorm1d\u001b[0m\u001b[0;34m:\u001b[0m \u001b[0mcount_in\u001b[0m\u001b[0;34m,\u001b[0m\u001b[0;34m\u001b[0m\u001b[0;34m\u001b[0m\u001b[0m\n\u001b[1;32m     36\u001b[0m     \u001b[0mnn\u001b[0m\u001b[0;34m.\u001b[0m\u001b[0mInstanceNorm2d\u001b[0m\u001b[0;34m:\u001b[0m \u001b[0mcount_in\u001b[0m\u001b[0;34m,\u001b[0m\u001b[0;34m\u001b[0m\u001b[0;34m\u001b[0m\u001b[0m\n",
      "\u001b[0;31mNameError\u001b[0m: name 'count_ln' is not defined"
     ]
    }
   ],
   "source": [
    "from NASBench import NAS101\n",
    "import sys, os\n",
    "sys.path.append(os.path.dirname(os.path.dirname(os.path.abspath('__file__'))))\n",
    "from source.nasbench.nasbench import api as nasbenchAPI\n",
    "import numpy as np\n",
    "api = NAS101.NAS101()"
   ]
  },
  {
   "cell_type": "code",
   "execution_count": 2,
   "metadata": {},
   "outputs": [],
   "source": [
    "valid_ind = [[0, 1, 1, 0, 0, 1, 0,],\n",
    "            [0, 0, 1, 0, 1, 1, 1,],\n",
    "            [0, 0, 0, 1, 1, 0, 0,],\n",
    "            [0, 0, 0, 0, 0, 0, 0,],\n",
    "            [0, 0, 0, 0, 0, 1, 0,],\n",
    "            [0, 0, 0, 0, 0, 0, 0,],\n",
    "            [0, 0, 0, 0, 0, 0, 0,]]\n",
    "\n",
    "test_ind = [[0, 1, 1, 1, 0, 1, 0,],\n",
    "            [0, 0, 0, 0, 0, 0, 1,],\n",
    "            [0, 0, 0, 0, 0, 0, 1,],\n",
    "            [0, 0, 0, 0, 1, 0, 0,],\n",
    "            [0, 0, 0, 0, 0, 0, 1,],\n",
    "            [0, 0, 0, 0, 0, 0, 1,],\n",
    "            [0, 0, 0, 0, 0, 0, 0,]]\n",
    "\n",
    "invalid_ind = [[0, 0, 0, 0, 0, 0, 0,],\n",
    "                [0, 0, 0, 0, 0, 0, 0,],\n",
    "                [0, 0, 0, 0, 0, 0, 0,],\n",
    "                [0, 0, 0, 0, 0, 0, 0,],\n",
    "                [0, 0, 0, 0, 0, 0, 0,],\n",
    "                [0, 0, 0, 0, 0, 0, 0,],\n",
    "                [0, 0, 0, 0, 0, 0, 0,]] "
   ]
  },
  {
   "cell_type": "code",
   "execution_count": 3,
   "metadata": {},
   "outputs": [
    {
     "data": {
      "text/plain": [
       "{'original_matrix': array([[0, 1, 1, 0, 0, 1, 0],\n",
       "        [0, 0, 1, 0, 1, 1, 1],\n",
       "        [0, 0, 0, 1, 1, 0, 0],\n",
       "        [0, 0, 0, 0, 0, 0, 0],\n",
       "        [0, 0, 0, 0, 0, 1, 0],\n",
       "        [0, 0, 0, 0, 0, 0, 0],\n",
       "        [0, 0, 0, 0, 0, 0, 0]]),\n",
       " 'original_ops': ['input',\n",
       "  'conv1x1-bn-relu',\n",
       "  'conv3x3-bn-relu',\n",
       "  'conv3x3-bn-relu',\n",
       "  'conv3x3-bn-relu',\n",
       "  'maxpool3x3',\n",
       "  'output'],\n",
       " 'matrix': array([[0, 1, 0],\n",
       "        [0, 0, 1],\n",
       "        [0, 0, 0]]),\n",
       " 'ops': ['input', 'conv1x1-bn-relu', 'output'],\n",
       " 'valid_spec': True,\n",
       " 'data_format': 'channels_last'}"
      ]
     },
     "execution_count": 3,
     "metadata": {},
     "output_type": "execute_result"
    }
   ],
   "source": [
    "INPUT = 'input'\n",
    "OUTPUT = 'output'\n",
    "CONV3X3 = 'conv3x3-bn-relu'\n",
    "CONV1X1 = 'conv1x1-bn-relu'\n",
    "MAXPOOL3X3 = 'maxpool3x3'\n",
    "cell = nasbenchAPI.ModelSpec(matrix=np.array(valid_ind), ops=[INPUT, CONV1X1, CONV3X3, CONV3X3, CONV3X3, MAXPOOL3X3, OUTPUT])\n",
    "\n",
    "cell.__dict__"
   ]
  },
  {
   "cell_type": "markdown",
   "metadata": {},
   "source": [
    "## Layer construction\n",
    "\n",
    "### Output layer\n",
    "**Conv1x1** $\\rightarrow$ **Batch Normalization** $\\rightarrow$ **ReLU**"
   ]
  },
  {
   "cell_type": "code",
   "execution_count": 4,
   "metadata": {},
   "outputs": [
    {
     "data": {
      "image/svg+xml": "<?xml version=\"1.0\" encoding=\"UTF-8\" standalone=\"no\"?>\n<!DOCTYPE svg PUBLIC \"-//W3C//DTD SVG 1.1//EN\"\n \"http://www.w3.org/Graphics/SVG/1.1/DTD/svg11.dtd\">\n<!-- Generated by graphviz version 2.50.0 (20211204.2007)\n -->\n<!-- Pages: 1 -->\n<svg width=\"147pt\" height=\"188pt\"\n viewBox=\"0.00 0.00 147.09 188.00\" xmlns=\"http://www.w3.org/2000/svg\" xmlns:xlink=\"http://www.w3.org/1999/xlink\">\n<g id=\"graph0\" class=\"graph\" transform=\"scale(1 1) rotate(0) translate(4 184)\">\n<polygon fill=\"white\" stroke=\"transparent\" points=\"-4,4 -4,-184 143.09,-184 143.09,4 -4,4\"/>\n<!-- 0 -->\n<g id=\"node1\" class=\"node\">\n<title>0</title>\n<ellipse fill=\"none\" stroke=\"black\" cx=\"69.54\" cy=\"-162\" rx=\"28.7\" ry=\"18\"/>\n<text text-anchor=\"middle\" x=\"69.54\" y=\"-158.3\" font-family=\"Times,serif\" font-size=\"14.00\">input</text>\n</g>\n<!-- 1 -->\n<g id=\"node2\" class=\"node\">\n<title>1</title>\n<ellipse fill=\"none\" stroke=\"black\" cx=\"69.54\" cy=\"-90\" rx=\"69.59\" ry=\"18\"/>\n<text text-anchor=\"middle\" x=\"69.54\" y=\"-86.3\" font-family=\"Times,serif\" font-size=\"14.00\">conv1x1&#45;bn&#45;relu</text>\n</g>\n<!-- 0&#45;&gt;1 -->\n<g id=\"edge1\" class=\"edge\">\n<title>0&#45;&gt;1</title>\n<path fill=\"none\" stroke=\"black\" d=\"M69.54,-143.7C69.54,-135.98 69.54,-126.71 69.54,-118.11\"/>\n<polygon fill=\"black\" stroke=\"black\" points=\"73.04,-118.1 69.54,-108.1 66.04,-118.1 73.04,-118.1\"/>\n</g>\n<!-- 2 -->\n<g id=\"node3\" class=\"node\">\n<title>2</title>\n<ellipse fill=\"none\" stroke=\"black\" cx=\"69.54\" cy=\"-18\" rx=\"33.29\" ry=\"18\"/>\n<text text-anchor=\"middle\" x=\"69.54\" y=\"-14.3\" font-family=\"Times,serif\" font-size=\"14.00\">output</text>\n</g>\n<!-- 1&#45;&gt;2 -->\n<g id=\"edge2\" class=\"edge\">\n<title>1&#45;&gt;2</title>\n<path fill=\"none\" stroke=\"black\" d=\"M69.54,-71.7C69.54,-63.98 69.54,-54.71 69.54,-46.11\"/>\n<polygon fill=\"black\" stroke=\"black\" points=\"73.04,-46.1 69.54,-36.1 66.04,-46.1 73.04,-46.1\"/>\n</g>\n</g>\n</svg>\n",
      "text/plain": [
       "<graphviz.dot.Digraph at 0x287bad640>"
      ]
     },
     "execution_count": 4,
     "metadata": {},
     "output_type": "execute_result"
    }
   ],
   "source": [
    "cell.visualize()"
   ]
  },
  {
   "cell_type": "code",
   "execution_count": 5,
   "metadata": {},
   "outputs": [],
   "source": [
    "def CellToUppertriangular(cell) -> list:\n",
    "    upper_triangle = []\n",
    "    matrixSize = len(cell)\n",
    "    for i in range(0, matrixSize, 1):\n",
    "        for j in range(i, matrixSize, 1):\n",
    "            upper_triangle.append(cell[i][j])\n",
    "    return upper_triangle   "
   ]
  },
  {
   "cell_type": "code",
   "execution_count": 6,
   "metadata": {},
   "outputs": [
    {
     "data": {
      "text/plain": [
       "['input', 'conv1x1-bn-relu', 'output']"
      ]
     },
     "execution_count": 6,
     "metadata": {},
     "output_type": "execute_result"
    }
   ],
   "source": [
    "cell.__dict__['ops']"
   ]
  },
  {
   "cell_type": "code",
   "execution_count": 27,
   "metadata": {},
   "outputs": [],
   "source": [
    "def repair_connection(ind, ops):\n",
    "    cell = nasbenchAPI.ModelSpec(matrix=np.array(ind), ops=ops)\n",
    "    \n",
    "    # if input does not link to any operation \n",
    "    # then input -> output\n",
    "    if cell.__dict__['matrix'] is None: \n",
    "        return [[0, 0, 0, 0, 0, 0, 1,],\n",
    "                [0, 0, 0, 0, 0, 0, 0,],\n",
    "                [0, 0, 0, 0, 0, 0, 0,],\n",
    "                [0, 0, 0, 0, 0, 0, 0,],\n",
    "                [0, 0, 0, 0, 0, 0, 0,],\n",
    "                [0, 0, 0, 0, 0, 0, 0,],\n",
    "                [0, 0, 0, 0, 0, 0, 0,]]\n",
    "        \n",
    "    operation = cell.__dict__['ops']\n",
    "    used_operation = {\n",
    "        'conv5x5' : False\n",
    "    }\n",
    "    use_5x5 = False \n",
    "    matrix = cell.__dict__['original_matrix'] if cell.__dict__['matrix'] is not None else ind\n",
    "    \n",
    "    if cell.__dict__['ops'] is not None:\n",
    "        for op in ops:\n",
    "            used_operation[op] = True if ops in operation else False\n",
    "    \n",
    "    if matrix[0][4] == 1 and matrix[0][5] == 1:\n",
    "        used_operation['conv5x5'] = True\n",
    "   \n",
    "    if used_operation['conv1x1-bn-relu']:\n",
    "        matrix[1][len(matrix) - 1] = 1\n",
    "    \n",
    "    if used_operation['conv5x5']:\n",
    "        matrix[3][4] = 1 # link to the other 3x3 connection\n",
    "        matrix[4][len(matrix) - 1] = 1 # link to output\n",
    "    \n",
    "    if used_operation['maxpool3x3']:\n",
    "        matrix[5][len(matrix) - 1] = 1\n",
    "    \n",
    "    if matrix[0][2] == 1:\n",
    "        matrix[2][len(matrix) - 1] = 1 # use conv3x3\n",
    "    \n",
    "    if (matrix[0][3] == 1 and matrix[0][4] == 0): # use conv3x3 only\n",
    "        matrix[3][len(matrix) - 1] = 1\n",
    "    if (matrix[0][3] == 0 and matrix[0][4] == 1): # use conv3x3 only\n",
    "        matrix[4][len(matrix) - 1] = 1       \n",
    "        \n",
    "    return matrix"
   ]
  },
  {
   "cell_type": "code",
   "execution_count": 11,
   "metadata": {},
   "outputs": [
    {
     "name": "stdout",
     "output_type": "stream",
     "text": [
      "{'module_adjacency': array([[0, 1, 0, 1],\n",
      "       [0, 0, 1, 0],\n",
      "       [0, 0, 0, 1],\n",
      "       [0, 0, 0, 0]], dtype=int8), 'module_operations': ['input', 'conv3x3-bn-relu', 'conv3x3-bn-relu', 'output'], 'trainable_parameters': 20346506, 'training_time': 96.76300048828125, 'train_accuracy': 0.3701923191547394, 'validation_accuracy': 0.37379807233810425, 'test_accuracy': 0.3742988705635071}\n"
     ]
    }
   ],
   "source": [
    "ops=[INPUT, CONV1X1, CONV3X3, CONV3X3, CONV3X3, MAXPOOL3X3, OUTPUT]\n",
    "# repair_connection(ind=[[0, 0, 0, 0, 0, 0, 1,],\n",
    "#                     [0, 0, 0, 0, 0, 0, 0,],\n",
    "#                     [0, 0, 0, 0, 0, 0, 0,],\n",
    "#                     [0, 0, 0, 0, 0, 0, 0,],\n",
    "#                     [0, 0, 0, 0, 0, 0, 0,],\n",
    "#                     [0, 0, 0, 0, 0, 0, 0,],\n",
    "#                     [0, 0, 0, 0, 0, 0, 0,]], ops=[INPUT, CONV1X1, CONV3X3, CONV3X3, CONV3X3, MAXPOOL3X3, OUTPUT])\n",
    "cell = nasbenchAPI.ModelSpec(matrix=np.array([[0, 1, 0, 1,],\n",
    "                                            [0, 0, 1, 0,],\n",
    "                                            [0, 0, 0, 1,],\n",
    "                                            [0, 0, 0, 0,]]), ops=[INPUT, 'conv3x3-bn-relu', 'conv3x3-bn-relu', OUTPUT])\n",
    "print(api.api.query(cell, epochs=4))\n",
    "# cell.visualize()"
   ]
  },
  {
   "cell_type": "code",
   "execution_count": 29,
   "metadata": {},
   "outputs": [
    {
     "data": {
      "text/plain": [
       "True"
      ]
     },
     "execution_count": 29,
     "metadata": {},
     "output_type": "execute_result"
    }
   ],
   "source": [
    "test_ind = [[0, 0, 0, 0, 0, 1, 0],\n",
    "            [0, 0, 0, 0, 0, 0, 0],\n",
    "            [0, 0, 0, 0, 0, 0, 0],\n",
    "            [0, 0, 0, 0, 0, 0, 0],\n",
    "            [0, 0, 0, 0, 0, 0, 0],\n",
    "            [0, 0, 0, 0, 0, 0, 1],\n",
    "            [0, 0, 0, 0, 0, 0, 0]]\n",
    "api.is_valid(test_ind)"
   ]
  }
 ],
 "metadata": {
  "interpreter": {
   "hash": "2bc631a6752f7abc0e858d3b971661b62fa5a0184238d3eeea5fa9e14c9b2c1d"
  },
  "kernelspec": {
   "display_name": "Python 3.9.5 ('base')",
   "language": "python",
   "name": "python3"
  },
  "language_info": {
   "codemirror_mode": {
    "name": "ipython",
    "version": 3
   },
   "file_extension": ".py",
   "mimetype": "text/x-python",
   "name": "python",
   "nbconvert_exporter": "python",
   "pygments_lexer": "ipython3",
   "version": "3.9.5"
  },
  "orig_nbformat": 4
 },
 "nbformat": 4,
 "nbformat_minor": 2
}
